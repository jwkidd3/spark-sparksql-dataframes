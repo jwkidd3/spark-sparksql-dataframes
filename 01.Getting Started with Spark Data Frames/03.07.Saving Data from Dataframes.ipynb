{
 "cells": [
  {
   "cell_type": "markdown",
   "metadata": {},
   "source": [
    "# Saving Data from Dataframes"
   ]
  },
  {
   "cell_type": "code",
   "execution_count": 2,
   "metadata": {},
   "outputs": [],
   "source": [
    "from pyspark.sql import SparkSession\n",
    "\n",
    "spark = SparkSession.builder.getOrCreate()"
   ]
  },
  {
   "cell_type": "code",
   "execution_count": 3,
   "metadata": {},
   "outputs": [],
   "source": [
    "data_path = '../Data'\n",
    "file_path = data_path + '/location_temp.csv'"
   ]
  },
  {
   "cell_type": "code",
   "execution_count": 4,
   "metadata": {},
   "outputs": [],
   "source": [
    "df = spark.read.format('csv').options(header=True).load(file_path)"
   ]
  },
  {
   "cell_type": "code",
   "execution_count": 5,
   "metadata": {},
   "outputs": [
    {
     "name": "stdout",
     "output_type": "stream",
     "text": [
      "+-------------------+-----------+------------+\n",
      "|         event_date|location_id|temp_celcius|\n",
      "+-------------------+-----------+------------+\n",
      "|03/04/2019 19:48:06|       loc0|          29|\n",
      "|03/04/2019 19:53:06|       loc0|          27|\n",
      "|03/04/2019 19:58:06|       loc0|          28|\n",
      "|03/04/2019 20:03:06|       loc0|          30|\n",
      "|03/04/2019 20:08:06|       loc0|          27|\n",
      "|03/04/2019 20:13:06|       loc0|          27|\n",
      "|03/04/2019 20:18:06|       loc0|          27|\n",
      "|03/04/2019 20:23:06|       loc0|          29|\n",
      "|03/04/2019 20:28:06|       loc0|          32|\n",
      "|03/04/2019 20:33:06|       loc0|          35|\n",
      "+-------------------+-----------+------------+\n",
      "only showing top 10 rows\n",
      "\n"
     ]
    }
   ],
   "source": [
    "df.show(10)"
   ]
  },
  {
   "cell_type": "markdown",
   "metadata": {},
   "source": [
    "-------"
   ]
  },
  {
   "cell_type": "markdown",
   "metadata": {},
   "source": [
    "# Save CSV file to the disk"
   ]
  },
  {
   "cell_type": "code",
   "execution_count": 33,
   "metadata": {},
   "outputs": [],
   "source": [
    "df.write.csv('temp_data.csv')"
   ]
  },
  {
   "cell_type": "markdown",
   "metadata": {},
   "source": [
    "# Using shell command to check the file\n",
    "- We can see that spark can break up DataFrame and into Partition Subsets.\n",
    "- In this case, 4 partitions. Each partition has its own file."
   ]
  },
  {
   "cell_type": "code",
   "execution_count": 35,
   "metadata": {},
   "outputs": [
    {
     "name": "stdout",
     "output_type": "stream",
     "text": [
      "_SUCCESS\n",
      "part-00000-6daf7576-236d-4305-bea9-f9be7e1a9715-c000.csv\n",
      "part-00001-6daf7576-236d-4305-bea9-f9be7e1a9715-c000.csv\n",
      "part-00002-6daf7576-236d-4305-bea9-f9be7e1a9715-c000.csv\n",
      "part-00003-6daf7576-236d-4305-bea9-f9be7e1a9715-c000.csv\n"
     ]
    }
   ],
   "source": [
    "! ls temp_data.csv"
   ]
  },
  {
   "cell_type": "markdown",
   "metadata": {},
   "source": [
    "# View data from the file\n",
    "- As spark created directory, we need to use the folder name and look into the specific file.\n",
    "- view data from the 1st partition of temp_data.csv file"
   ]
  },
  {
   "cell_type": "code",
   "execution_count": 36,
   "metadata": {},
   "outputs": [
    {
     "name": "stdout",
     "output_type": "stream",
     "text": [
      "03/04/2019 19:48:06,loc0,29\n",
      "03/04/2019 19:53:06,loc0,27\n",
      "03/04/2019 19:58:06,loc0,28\n",
      "03/04/2019 20:03:06,loc0,30\n",
      "03/04/2019 20:08:06,loc0,27\n",
      "03/04/2019 20:13:06,loc0,27\n",
      "03/04/2019 20:18:06,loc0,27\n",
      "03/04/2019 20:23:06,loc0,29\n",
      "03/04/2019 20:28:06,loc0,32\n",
      "03/04/2019 20:33:06,loc0,35\n"
     ]
    }
   ],
   "source": [
    "! head temp_data.csv/part-00000-6daf7576-236d-4305-bea9-f9be7e1a9715-c000.csv"
   ]
  },
  {
   "cell_type": "markdown",
   "metadata": {},
   "source": [
    "-------"
   ]
  },
  {
   "cell_type": "markdown",
   "metadata": {},
   "source": [
    "# Save JSON file to the disk"
   ]
  },
  {
   "cell_type": "code",
   "execution_count": 37,
   "metadata": {},
   "outputs": [],
   "source": [
    "df.write.json('temp_data.json')"
   ]
  },
  {
   "cell_type": "code",
   "execution_count": 38,
   "metadata": {},
   "outputs": [
    {
     "name": "stdout",
     "output_type": "stream",
     "text": [
      "_SUCCESS\n",
      "part-00000-8acb09bc-eff2-4645-bf2c-edc70f3277f9-c000.json\n",
      "part-00001-8acb09bc-eff2-4645-bf2c-edc70f3277f9-c000.json\n",
      "part-00002-8acb09bc-eff2-4645-bf2c-edc70f3277f9-c000.json\n",
      "part-00003-8acb09bc-eff2-4645-bf2c-edc70f3277f9-c000.json\n"
     ]
    }
   ],
   "source": [
    "! ls temp_data.json"
   ]
  },
  {
   "cell_type": "markdown",
   "metadata": {},
   "source": [
    "We  can see that now data are in json, instead of csv."
   ]
  },
  {
   "cell_type": "code",
   "execution_count": 39,
   "metadata": {},
   "outputs": [
    {
     "name": "stdout",
     "output_type": "stream",
     "text": [
      "{\"event_date\":\"03/04/2019 19:48:06\",\"location_id\":\"loc0\",\"temp_celcius\":\"29\"}\n",
      "{\"event_date\":\"03/04/2019 19:53:06\",\"location_id\":\"loc0\",\"temp_celcius\":\"27\"}\n",
      "{\"event_date\":\"03/04/2019 19:58:06\",\"location_id\":\"loc0\",\"temp_celcius\":\"28\"}\n",
      "{\"event_date\":\"03/04/2019 20:03:06\",\"location_id\":\"loc0\",\"temp_celcius\":\"30\"}\n",
      "{\"event_date\":\"03/04/2019 20:08:06\",\"location_id\":\"loc0\",\"temp_celcius\":\"27\"}\n",
      "{\"event_date\":\"03/04/2019 20:13:06\",\"location_id\":\"loc0\",\"temp_celcius\":\"27\"}\n",
      "{\"event_date\":\"03/04/2019 20:18:06\",\"location_id\":\"loc0\",\"temp_celcius\":\"27\"}\n",
      "{\"event_date\":\"03/04/2019 20:23:06\",\"location_id\":\"loc0\",\"temp_celcius\":\"29\"}\n",
      "{\"event_date\":\"03/04/2019 20:28:06\",\"location_id\":\"loc0\",\"temp_celcius\":\"32\"}\n",
      "{\"event_date\":\"03/04/2019 20:33:06\",\"location_id\":\"loc0\",\"temp_celcius\":\"35\"}\n"
     ]
    }
   ],
   "source": [
    "! head temp_data.json/part-00000-8acb09bc-eff2-4645-bf2c-edc70f3277f9-c000.json"
   ]
  },
  {
   "cell_type": "code",
   "execution_count": null,
   "metadata": {},
   "outputs": [],
   "source": []
  }
 ],
 "metadata": {
  "kernelspec": {
   "display_name": "venv-datascience",
   "language": "python",
   "name": "venv-datascience"
  },
  "language_info": {
   "codemirror_mode": {
    "name": "ipython",
    "version": 3
   },
   "file_extension": ".py",
   "mimetype": "text/x-python",
   "name": "python",
   "nbconvert_exporter": "python",
   "pygments_lexer": "ipython3",
   "version": "3.8.5"
  }
 },
 "nbformat": 4,
 "nbformat_minor": 4
}
