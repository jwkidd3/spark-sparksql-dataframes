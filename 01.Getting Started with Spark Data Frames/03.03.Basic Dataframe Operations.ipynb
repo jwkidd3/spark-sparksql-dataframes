{
 "cells": [
  {
   "cell_type": "markdown",
   "metadata": {},
   "source": [
    "# Basic Dataframe Operations"
   ]
  },
  {
   "cell_type": "code",
   "execution_count": 1,
   "metadata": {},
   "outputs": [],
   "source": [
    "from pyspark.sql import SparkSession"
   ]
  },
  {
   "cell_type": "code",
   "execution_count": 2,
   "metadata": {},
   "outputs": [],
   "source": [
    "spark = SparkSession.builder.getOrCreate()"
   ]
  },
  {
   "cell_type": "code",
   "execution_count": 3,
   "metadata": {},
   "outputs": [
    {
     "data": {
      "text/html": [
       "\n",
       "            <div>\n",
       "                <p><b>SparkSession - in-memory</b></p>\n",
       "                \n",
       "        <div>\n",
       "            <p><b>SparkContext</b></p>\n",
       "\n",
       "            <p><a href=\"http://Lenovo-PC:4040\">Spark UI</a></p>\n",
       "\n",
       "            <dl>\n",
       "              <dt>Version</dt>\n",
       "                <dd><code>v3.0.1</code></dd>\n",
       "              <dt>Master</dt>\n",
       "                <dd><code>local[*]</code></dd>\n",
       "              <dt>AppName</dt>\n",
       "                <dd><code>pyspark-shell</code></dd>\n",
       "            </dl>\n",
       "        </div>\n",
       "        \n",
       "            </div>\n",
       "        "
      ],
      "text/plain": [
       "<pyspark.sql.session.SparkSession at 0x156c80d30>"
      ]
     },
     "execution_count": 3,
     "metadata": {},
     "output_type": "execute_result"
    }
   ],
   "source": [
    "spark"
   ]
  },
  {
   "cell_type": "markdown",
   "metadata": {},
   "source": [
    "--------"
   ]
  },
  {
   "cell_type": "markdown",
   "metadata": {},
   "source": [
    "# 1) Load data into DataFrames: JSON files"
   ]
  },
  {
   "cell_type": "code",
   "execution_count": 10,
   "metadata": {},
   "outputs": [],
   "source": [
    "data_path = '../Data'\n",
    "file_path = data_path + '/utilization.json'"
   ]
  },
  {
   "cell_type": "code",
   "execution_count": 11,
   "metadata": {},
   "outputs": [],
   "source": [
    "df = spark.read.format('json').load(file_path)"
   ]
  },
  {
   "cell_type": "code",
   "execution_count": 12,
   "metadata": {},
   "outputs": [
    {
     "name": "stdout",
     "output_type": "stream",
     "text": [
      "+----+-------------------+-----------+---------+-------------+\n",
      "| cpu|     event_datetime|free_memory|server_id|session_count|\n",
      "+----+-------------------+-----------+---------+-------------+\n",
      "|0.57|03/05/2019 08:06:14|       0.51|      100|           47|\n",
      "|0.47|03/05/2019 08:11:14|       0.62|      100|           43|\n",
      "|0.56|03/05/2019 08:16:14|       0.57|      100|           62|\n",
      "|0.57|03/05/2019 08:21:14|       0.56|      100|           50|\n",
      "|0.35|03/05/2019 08:26:14|       0.46|      100|           43|\n",
      "+----+-------------------+-----------+---------+-------------+\n",
      "\n"
     ]
    }
   ],
   "source": [
    "df.show()"
   ]
  },
  {
   "cell_type": "code",
   "execution_count": 13,
   "metadata": {},
   "outputs": [
    {
     "data": {
      "text/plain": [
       "5"
      ]
     },
     "execution_count": 13,
     "metadata": {},
     "output_type": "execute_result"
    }
   ],
   "source": [
    "df.count()"
   ]
  },
  {
   "cell_type": "markdown",
   "metadata": {},
   "source": [
    "--------"
   ]
  },
  {
   "cell_type": "markdown",
   "metadata": {},
   "source": [
    "# 2) Basic DataFrame Operations\n",
    "- Sampling\n",
    "- Sorting"
   ]
  },
  {
   "cell_type": "code",
   "execution_count": 15,
   "metadata": {},
   "outputs": [
    {
     "data": {
      "text/plain": [
       "['cpu', 'event_datetime', 'free_memory', 'server_id', 'session_count']"
      ]
     },
     "execution_count": 15,
     "metadata": {},
     "output_type": "execute_result"
    }
   ],
   "source": [
    "# check the columns name\n",
    "df.columns"
   ]
  },
  {
   "cell_type": "markdown",
   "metadata": {},
   "source": [
    "## Sample or Subset of data\n",
    "- there are two ways to get sample (with replacement or without replacement)\n",
    "- replacement meaning we might still get the already drawn out row , on next time we draw a new sample from the dataframe\n"
   ]
  },
  {
   "cell_type": "code",
   "execution_count": 19,
   "metadata": {},
   "outputs": [],
   "source": [
    "# get sample without replacement for 20% of original dataset\n",
    "df_sample = df.sample(False, 0.2)"
   ]
  },
  {
   "cell_type": "code",
   "execution_count": 20,
   "metadata": {},
   "outputs": [
    {
     "name": "stdout",
     "output_type": "stream",
     "text": [
      "+----+-------------------+-----------+---------+-------------+\n",
      "| cpu|     event_datetime|free_memory|server_id|session_count|\n",
      "+----+-------------------+-----------+---------+-------------+\n",
      "|0.47|03/05/2019 08:11:14|       0.62|      100|           43|\n",
      "+----+-------------------+-----------+---------+-------------+\n",
      "\n"
     ]
    }
   ],
   "source": [
    "df_sample.show()"
   ]
  },
  {
   "cell_type": "code",
   "execution_count": 24,
   "metadata": {},
   "outputs": [
    {
     "data": {
      "text/plain": [
       "1.0"
      ]
     },
     "execution_count": 24,
     "metadata": {},
     "output_type": "execute_result"
    }
   ],
   "source": [
    "df.count() * 0.2"
   ]
  },
  {
   "cell_type": "markdown",
   "metadata": {},
   "source": [
    "--------"
   ]
  },
  {
   "cell_type": "markdown",
   "metadata": {},
   "source": [
    "## Sort the data"
   ]
  },
  {
   "cell_type": "code",
   "execution_count": 31,
   "metadata": {},
   "outputs": [
    {
     "name": "stdout",
     "output_type": "stream",
     "text": [
      "+----+-------------------+-----------+---------+-------------+\n",
      "| cpu|     event_datetime|free_memory|server_id|session_count|\n",
      "+----+-------------------+-----------+---------+-------------+\n",
      "|0.57|03/05/2019 08:06:14|       0.51|      100|           47|\n",
      "|0.47|03/05/2019 08:11:14|       0.62|      100|           43|\n",
      "|0.56|03/05/2019 08:16:14|       0.57|      100|           62|\n",
      "|0.57|03/05/2019 08:21:14|       0.56|      100|           50|\n",
      "|0.35|03/05/2019 08:26:14|       0.46|      100|           43|\n",
      "+----+-------------------+-----------+---------+-------------+\n",
      "\n"
     ]
    }
   ],
   "source": [
    "df.show()"
   ]
  },
  {
   "cell_type": "code",
   "execution_count": 29,
   "metadata": {},
   "outputs": [],
   "source": [
    "# sort by session count decending order\n",
    "\n",
    "df_sorted = df.sort('session_count', ascending=False)"
   ]
  },
  {
   "cell_type": "code",
   "execution_count": 30,
   "metadata": {},
   "outputs": [
    {
     "name": "stdout",
     "output_type": "stream",
     "text": [
      "+----+-------------------+-----------+---------+-------------+\n",
      "| cpu|     event_datetime|free_memory|server_id|session_count|\n",
      "+----+-------------------+-----------+---------+-------------+\n",
      "|0.56|03/05/2019 08:16:14|       0.57|      100|           62|\n",
      "|0.57|03/05/2019 08:21:14|       0.56|      100|           50|\n",
      "|0.57|03/05/2019 08:06:14|       0.51|      100|           47|\n",
      "|0.47|03/05/2019 08:11:14|       0.62|      100|           43|\n",
      "|0.35|03/05/2019 08:26:14|       0.46|      100|           43|\n",
      "+----+-------------------+-----------+---------+-------------+\n",
      "\n"
     ]
    }
   ],
   "source": [
    "df_sorted.show()"
   ]
  }
 ],
 "metadata": {
  "kernelspec": {
   "display_name": "venv-datascience",
   "language": "python",
   "name": "venv-datascience"
  },
  "language_info": {
   "codemirror_mode": {
    "name": "ipython",
    "version": 3
   },
   "file_extension": ".py",
   "mimetype": "text/x-python",
   "name": "python",
   "nbconvert_exporter": "python",
   "pygments_lexer": "ipython3",
   "version": "3.8.5"
  }
 },
 "nbformat": 4,
 "nbformat_minor": 4
}
