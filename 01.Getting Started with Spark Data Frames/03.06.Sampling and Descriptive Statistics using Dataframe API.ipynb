{
 "cells": [
  {
   "cell_type": "markdown",
   "metadata": {},
   "source": [
    "# Sampling  and Descriptive Statistics using Dataframe API"
   ]
  },
  {
   "cell_type": "code",
   "execution_count": 4,
   "metadata": {},
   "outputs": [],
   "source": [
    "from pyspark.sql import SparkSession\n",
    "\n",
    "spark = SparkSession.builder.getOrCreate()"
   ]
  },
  {
   "cell_type": "code",
   "execution_count": 1,
   "metadata": {},
   "outputs": [],
   "source": [
    "data_path = '../Data'\n",
    "file_path = data_path + '/location_temp.csv'"
   ]
  },
  {
   "cell_type": "code",
   "execution_count": 14,
   "metadata": {},
   "outputs": [],
   "source": [
    "df = spark.read.format('csv').options(header=True).load(file_path)"
   ]
  },
  {
   "cell_type": "markdown",
   "metadata": {},
   "source": [
    "# Sampling"
   ]
  },
  {
   "cell_type": "code",
   "execution_count": 17,
   "metadata": {},
   "outputs": [
    {
     "data": {
      "text/plain": [
       "500000"
      ]
     },
     "execution_count": 17,
     "metadata": {},
     "output_type": "execute_result"
    }
   ],
   "source": [
    "df.count()"
   ]
  },
  {
   "cell_type": "markdown",
   "metadata": {},
   "source": [
    "with NO replacement, we will always get unique values."
   ]
  },
  {
   "cell_type": "code",
   "execution_count": 24,
   "metadata": {},
   "outputs": [],
   "source": [
    "df_sample = df.sample(withReplacement=False, fraction=0.1)"
   ]
  },
  {
   "cell_type": "code",
   "execution_count": 25,
   "metadata": {},
   "outputs": [
    {
     "data": {
      "text/plain": [
       "50195"
      ]
     },
     "execution_count": 25,
     "metadata": {},
     "output_type": "execute_result"
    }
   ],
   "source": [
    "df_sample.count()"
   ]
  },
  {
   "cell_type": "markdown",
   "metadata": {},
   "source": [
    "# Descriptive Statistics"
   ]
  },
  {
   "cell_type": "code",
   "execution_count": 29,
   "metadata": {},
   "outputs": [
    {
     "name": "stdout",
     "output_type": "stream",
     "text": [
      "+-----------+------------------+\n",
      "|location_id| avg(temp_celcius)|\n",
      "+-----------+------------------+\n",
      "|     loc196| 29.25263157894737|\n",
      "|     loc226|25.152380952380952|\n",
      "|     loc463|23.401960784313726|\n",
      "|     loc150| 32.22857142857143|\n",
      "|     loc292|            29.625|\n",
      "|     loc311|24.485148514851485|\n",
      "|      loc22|28.172043010752688|\n",
      "|     loc351|28.292035398230087|\n",
      "|     loc370|29.093457943925234|\n",
      "|     loc419|29.108695652173914|\n",
      "|      loc31| 25.07766990291262|\n",
      "|     loc305|27.477272727272727|\n",
      "|      loc82|27.119565217391305|\n",
      "|      loc90|23.051546391752577|\n",
      "|     loc118|23.670212765957448|\n",
      "|     loc195|26.990384615384617|\n",
      "|     loc208|25.737373737373737|\n",
      "|      loc39|25.454545454545453|\n",
      "|      loc75| 23.35042735042735|\n",
      "|     loc228|             27.27|\n",
      "+-----------+------------------+\n",
      "only showing top 20 rows\n",
      "\n"
     ]
    }
   ],
   "source": [
    "# mean of temp for every location\n",
    "df_sample.groupBy('location_id').agg({'temp_celcius': 'mean'}).show()"
   ]
  },
  {
   "cell_type": "code",
   "execution_count": 31,
   "metadata": {},
   "outputs": [
    {
     "name": "stdout",
     "output_type": "stream",
     "text": [
      "+-----------+------------------+\n",
      "|location_id| avg(temp_celcius)|\n",
      "+-----------+------------------+\n",
      "|       loc0|29.641509433962263|\n",
      "|       loc1|28.654205607476637|\n",
      "|      loc10|             25.47|\n",
      "|     loc100| 27.12121212121212|\n",
      "|     loc101|24.755555555555556|\n",
      "|     loc102|30.372340425531913|\n",
      "|     loc103| 25.53846153846154|\n",
      "|     loc104| 25.96551724137931|\n",
      "|     loc105|26.586206896551722|\n",
      "|     loc106|27.582417582417584|\n",
      "+-----------+------------------+\n",
      "only showing top 10 rows\n",
      "\n"
     ]
    }
   ],
   "source": [
    "# mean of temp for every location, order by location ascending order\n",
    "df_sample.groupBy('location_id').agg({'temp_celcius': 'mean'}).orderBy('location_id').show(10)"
   ]
  },
  {
   "cell_type": "markdown",
   "metadata": {},
   "source": [
    "Now we can compare the mean of original dataset and mean of sample dataset."
   ]
  },
  {
   "cell_type": "code",
   "execution_count": 32,
   "metadata": {},
   "outputs": [
    {
     "name": "stdout",
     "output_type": "stream",
     "text": [
      "+-----------+-----------------+\n",
      "|location_id|avg(temp_celcius)|\n",
      "+-----------+-----------------+\n",
      "|       loc0|           29.176|\n",
      "|       loc1|           28.246|\n",
      "|      loc10|           25.337|\n",
      "|     loc100|           27.297|\n",
      "|     loc101|           25.317|\n",
      "|     loc102|           30.327|\n",
      "|     loc103|           25.341|\n",
      "|     loc104|           26.204|\n",
      "|     loc105|           26.217|\n",
      "|     loc106|           27.201|\n",
      "+-----------+-----------------+\n",
      "only showing top 10 rows\n",
      "\n"
     ]
    }
   ],
   "source": [
    "# mean of original dataset\n",
    "df.groupBy('location_id').agg({'temp_celcius':'mean'}).orderBy('location_id').show(10)"
   ]
  },
  {
   "cell_type": "markdown",
   "metadata": {},
   "source": [
    "From the comparision, Avg Temparature of Original Dataset for location ID loc0 is 29.176 C.\n",
    "\n",
    "And Avg Temparature of Sample Dataset for location ID loc0 is 29.641509433962263 which are pretty close."
   ]
  },
  {
   "cell_type": "markdown",
   "metadata": {},
   "source": [
    "But we need to take note of sampling size. As the sampling size get smaller, the value may be varied a lot from population data set."
   ]
  },
  {
   "cell_type": "code",
   "execution_count": null,
   "metadata": {},
   "outputs": [],
   "source": []
  }
 ],
 "metadata": {
  "kernelspec": {
   "display_name": "venv-datascience",
   "language": "python",
   "name": "venv-datascience"
  },
  "language_info": {
   "codemirror_mode": {
    "name": "ipython",
    "version": 3
   },
   "file_extension": ".py",
   "mimetype": "text/x-python",
   "name": "python",
   "nbconvert_exporter": "python",
   "pygments_lexer": "ipython3",
   "version": "3.8.5"
  }
 },
 "nbformat": 4,
 "nbformat_minor": 4
}
