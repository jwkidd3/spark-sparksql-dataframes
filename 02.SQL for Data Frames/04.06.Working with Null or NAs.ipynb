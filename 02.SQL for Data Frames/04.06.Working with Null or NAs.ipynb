{
 "cells": [
  {
   "cell_type": "markdown",
   "metadata": {},
   "source": [
    "# Working with Null or NAs"
   ]
  },
  {
   "cell_type": "code",
   "execution_count": 1,
   "metadata": {},
   "outputs": [],
   "source": [
    "from pyspark import SparkContext\n",
    "\n",
    "from pyspark.sql import SparkSession\n",
    "from pyspark.sql import Row\n",
    "from pyspark.sql.functions import lit\n",
    "from pyspark.sql.types import StringType"
   ]
  },
  {
   "cell_type": "code",
   "execution_count": 2,
   "metadata": {},
   "outputs": [],
   "source": [
    "sc = SparkContext.getOrCreate()"
   ]
  },
  {
   "cell_type": "code",
   "execution_count": 4,
   "metadata": {},
   "outputs": [],
   "source": [
    "spark = SparkSession.builder.getOrCreate()"
   ]
  },
  {
   "cell_type": "markdown",
   "metadata": {},
   "source": [
    "------"
   ]
  },
  {
   "cell_type": "code",
   "execution_count": 5,
   "metadata": {},
   "outputs": [],
   "source": [
    "# manually create dataframe\n",
    "\n",
    "df = sc.parallelize([\n",
    "            Row(server_name='101 server', cpu_utilization=85, session_count=80),\\\n",
    "            Row(server_name='101 server', cpu_utilization=80, session_count=90),\\\n",
    "            Row(server_name='102 server', cpu_utilization=85, session_count=80),\\\n",
    "            Row(server_name='102 server', cpu_utilization=85, session_count=80)\n",
    "]).toDF()"
   ]
  },
  {
   "cell_type": "code",
   "execution_count": 6,
   "metadata": {},
   "outputs": [
    {
     "name": "stdout",
     "output_type": "stream",
     "text": [
      "+-----------+---------------+-------------+\n",
      "|server_name|cpu_utilization|session_count|\n",
      "+-----------+---------------+-------------+\n",
      "| 101 server|             85|           80|\n",
      "| 101 server|             80|           90|\n",
      "| 102 server|             85|           80|\n",
      "| 102 server|             85|           80|\n",
      "+-----------+---------------+-------------+\n",
      "\n"
     ]
    }
   ],
   "source": [
    "df.show()"
   ]
  },
  {
   "cell_type": "markdown",
   "metadata": {},
   "source": [
    "# Create a new dataframe with One Additional Column"
   ]
  },
  {
   "cell_type": "code",
   "execution_count": 7,
   "metadata": {},
   "outputs": [],
   "source": [
    "# add a new column to original dataframe\n",
    "# value is literal None and cast it as a String type\n",
    "\n",
    "df_na = df.withColumn('na_column', lit(None).cast(StringType()))"
   ]
  },
  {
   "cell_type": "code",
   "execution_count": 8,
   "metadata": {},
   "outputs": [
    {
     "name": "stdout",
     "output_type": "stream",
     "text": [
      "+-----------+---------------+-------------+---------+\n",
      "|server_name|cpu_utilization|session_count|na_column|\n",
      "+-----------+---------------+-------------+---------+\n",
      "| 101 server|             85|           80|     null|\n",
      "| 101 server|             80|           90|     null|\n",
      "| 102 server|             85|           80|     null|\n",
      "| 102 server|             85|           80|     null|\n",
      "+-----------+---------------+-------------+---------+\n",
      "\n"
     ]
    }
   ],
   "source": [
    "df_na.show()"
   ]
  },
  {
   "cell_type": "markdown",
   "metadata": {},
   "source": [
    "# Filling NA value"
   ]
  },
  {
   "cell_type": "code",
   "execution_count": 9,
   "metadata": {},
   "outputs": [
    {
     "name": "stdout",
     "output_type": "stream",
     "text": [
      "+-----------+---------------+-------------+---------+\n",
      "|server_name|cpu_utilization|session_count|na_column|\n",
      "+-----------+---------------+-------------+---------+\n",
      "| 101 server|             85|           80|        A|\n",
      "| 101 server|             80|           90|        A|\n",
      "| 102 server|             85|           80|        A|\n",
      "| 102 server|             85|           80|        A|\n",
      "+-----------+---------------+-------------+---------+\n",
      "\n"
     ]
    }
   ],
   "source": [
    "df_na.fillna('A').show()"
   ]
  },
  {
   "cell_type": "markdown",
   "metadata": {},
   "source": [
    "# Create a new data frame with NA value and Non NA value"
   ]
  },
  {
   "cell_type": "code",
   "execution_count": 10,
   "metadata": {},
   "outputs": [],
   "source": [
    "df2 = df_na.fillna('A').union(df_na)"
   ]
  },
  {
   "cell_type": "code",
   "execution_count": 11,
   "metadata": {},
   "outputs": [
    {
     "name": "stdout",
     "output_type": "stream",
     "text": [
      "+-----------+---------------+-------------+---------+\n",
      "|server_name|cpu_utilization|session_count|na_column|\n",
      "+-----------+---------------+-------------+---------+\n",
      "| 101 server|             85|           80|        A|\n",
      "| 101 server|             80|           90|        A|\n",
      "| 102 server|             85|           80|        A|\n",
      "| 102 server|             85|           80|        A|\n",
      "| 101 server|             85|           80|     null|\n",
      "| 101 server|             80|           90|     null|\n",
      "| 102 server|             85|           80|     null|\n",
      "| 102 server|             85|           80|     null|\n",
      "+-----------+---------------+-------------+---------+\n",
      "\n"
     ]
    }
   ],
   "source": [
    "df2.show()"
   ]
  },
  {
   "cell_type": "markdown",
   "metadata": {},
   "source": [
    "# Drop NA values"
   ]
  },
  {
   "cell_type": "code",
   "execution_count": 13,
   "metadata": {},
   "outputs": [
    {
     "name": "stdout",
     "output_type": "stream",
     "text": [
      "+-----------+---------------+-------------+---------+\n",
      "|server_name|cpu_utilization|session_count|na_column|\n",
      "+-----------+---------------+-------------+---------+\n",
      "| 101 server|             85|           80|        A|\n",
      "| 101 server|             80|           90|        A|\n",
      "| 102 server|             85|           80|        A|\n",
      "| 102 server|             85|           80|        A|\n",
      "+-----------+---------------+-------------+---------+\n",
      "\n"
     ]
    }
   ],
   "source": [
    "df2.na.drop().show()"
   ]
  },
  {
   "cell_type": "markdown",
   "metadata": {},
   "source": [
    "### Drop NA values using SQL"
   ]
  },
  {
   "cell_type": "code",
   "execution_count": 20,
   "metadata": {},
   "outputs": [],
   "source": [
    "df2.createOrReplaceTempView('vw_na_table')"
   ]
  },
  {
   "cell_type": "code",
   "execution_count": 21,
   "metadata": {},
   "outputs": [
    {
     "name": "stdout",
     "output_type": "stream",
     "text": [
      "+-----------+---------------+-------------+---------+\n",
      "|server_name|cpu_utilization|session_count|na_column|\n",
      "+-----------+---------------+-------------+---------+\n",
      "| 101 server|             85|           80|        A|\n",
      "| 101 server|             80|           90|        A|\n",
      "| 102 server|             85|           80|        A|\n",
      "| 102 server|             85|           80|        A|\n",
      "| 101 server|             85|           80|     null|\n",
      "| 101 server|             80|           90|     null|\n",
      "| 102 server|             85|           80|     null|\n",
      "| 102 server|             85|           80|     null|\n",
      "+-----------+---------------+-------------+---------+\n",
      "\n"
     ]
    }
   ],
   "source": [
    "spark.sql('SELECT * FROM vw_na_table').show()"
   ]
  },
  {
   "cell_type": "code",
   "execution_count": 23,
   "metadata": {},
   "outputs": [
    {
     "name": "stdout",
     "output_type": "stream",
     "text": [
      "+-----------+---------------+-------------+---------+\n",
      "|server_name|cpu_utilization|session_count|na_column|\n",
      "+-----------+---------------+-------------+---------+\n",
      "| 101 server|             85|           80|        A|\n",
      "| 101 server|             80|           90|        A|\n",
      "| 102 server|             85|           80|        A|\n",
      "| 102 server|             85|           80|        A|\n",
      "+-----------+---------------+-------------+---------+\n",
      "\n"
     ]
    }
   ],
   "source": [
    "spark.sql('SELECT * FROM vw_na_table\\\n",
    "               WHERE na_column IS NOT NULL \\\n",
    "              ').show()"
   ]
  },
  {
   "cell_type": "code",
   "execution_count": null,
   "metadata": {},
   "outputs": [],
   "source": []
  }
 ],
 "metadata": {
  "kernelspec": {
   "display_name": "venv-datascience",
   "language": "python",
   "name": "venv-datascience"
  },
  "language_info": {
   "codemirror_mode": {
    "name": "ipython",
    "version": 3
   },
   "file_extension": ".py",
   "mimetype": "text/x-python",
   "name": "python",
   "nbconvert_exporter": "python",
   "pygments_lexer": "ipython3",
   "version": "3.8.5"
  }
 },
 "nbformat": 4,
 "nbformat_minor": 4
}
